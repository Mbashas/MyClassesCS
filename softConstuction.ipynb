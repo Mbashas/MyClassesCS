{
 "cells": [
  {
   "cell_type": "markdown",
   "metadata": {},
   "source": [
    "# Single Responsibility Principle (SRP)"
   ]
  },
  {
   "cell_type": "markdown",
   "metadata": {},
   "source": [
    "### Bad Examples"
   ]
  },
  {
   "cell_type": "code",
   "execution_count": null,
   "metadata": {},
   "outputs": [],
   "source": [
    "class User:\n",
    "    def __init__(self, name, email):\n",
    "        self.name = name\n",
    "        self.email = email\n",
    "    \n",
    "    def save_user(self):\n",
    "        # Handles database operations\n",
    "        pass\n",
    "    \n",
    "    def send_email(self):\n",
    "        # Handles email formatting and sending\n",
    "        pass\n",
    "    \n",
    "    def generate_report(self):\n",
    "        # Creates PDF reports\n",
    "        pass"
   ]
  },
  {
   "cell_type": "markdown",
   "metadata": {},
   "source": [
    "### Good Examples"
   ]
  },
  {
   "cell_type": "code",
   "execution_count": null,
   "metadata": {},
   "outputs": [],
   "source": [
    "class User:\n",
    "    def __init__(self, name, email):\n",
    "        self.name = name\n",
    "        self.email = email\n",
    "\n",
    "class UserRepository:\n",
    "    def save_user(self, user):\n",
    "        # Handles database operations only\n",
    "        pass\n",
    "\n",
    "class EmailService:\n",
    "    def send_email(self, user, message):\n",
    "        # Handles email operations only\n",
    "        pass\n",
    "\n",
    "class ReportGenerator:\n",
    "    def generate_user_report(self, user):\n",
    "        # Handles report generation only\n",
    "        pass"
   ]
  },
  {
   "cell_type": "markdown",
   "metadata": {},
   "source": [
    "### Explanation\n",
    "\n",
    "This notebook demonstrates the Single Responsibility Principle (SRP). In the bad examples, a single class handles multiple responsibilities. In the good examples, each class (User, UserRepository, EmailService, ReportGenerator) is focused on a single responsibility."
   ]
  },
  {
   "cell_type": "markdown",
   "metadata": {},
   "source": [
    "### Application\n",
    "\n",
    "When applying SRP in your projects, ensure that each class or module has one well-defined responsibility. This separation enhances code maintainability and testability."
   ]
  },
  {
   "cell_type": "markdown",
   "metadata": {},
   "source": [
    "# DRY (Don't Repeat Yourself)"
   ]
  },
  {
   "cell_type": "markdown",
   "metadata": {},
   "source": [
    "### Bad Examples"
   ]
  },
  {
   "cell_type": "code",
   "execution_count": null,
   "metadata": {
    "vscode": {
     "languageId": "javascript"
    }
   },
   "outputs": [],
   "source": [
    "// Bad example - Repeating discount logic\n",
    "function calculateTotalPrice(items) {\n",
    "    let total = 0;\n",
    "    for (let item of items) {\n",
    "        // Duplicate discount calculation logic\n",
    "        if (item.category === 'electronics') {\n",
    "            total += item.price * 0.9;\n",
    "        } else if (item.category === 'books') {\n",
    "            total += item.price * 0.95;\n",
    "        }\n",
    "    }\n",
    "    return total;\n",
    "}\n",
    "\n",
    "function calculateDiscountedPrice(item) {\n",
    "    // Same discount logic repeated\n",
    "    if (item.category === 'electronics') {\n",
    "        return item.price * 0.9;\n",
    "    } else if (item.category === 'books') {\n",
    "        return item.price * 0.95;\n",
    "    }\n",
    "}"
   ]
  },
  {
   "cell_type": "markdown",
   "metadata": {},
   "source": [
    "### Good Examples"
   ]
  },
  {
   "cell_type": "code",
   "execution_count": null,
   "metadata": {
    "vscode": {
     "languageId": "javascript"
    }
   },
   "outputs": [],
   "source": [
    "const CATEGORY_DISCOUNTS = {\n",
    "    'electronics': 0.9,\n",
    "    'books': 0.95,\n",
    "    'default': 1.0\n",
    "};\n",
    "\n",
    "function applyDiscount(price, category) {\n",
    "    const discountRate = CATEGORY_DISCOUNTS[category] || CATEGORY_DISCOUNTS.default;\n",
    "    return price * discountRate;\n",
    "}\n",
    "\n",
    "function calculateTotalPrice(items) {\n",
    "    return items.reduce((total, item) => \n",
    "        total + applyDiscount(item.price, item.category), 0);\n",
    "}\n",
    "\n",
    "function calculateDiscountedPrice(item) {\n",
    "    return applyDiscount(item.price, item.category);\n",
    "}"
   ]
  },
  {
   "cell_type": "markdown",
   "metadata": {},
   "source": [
    "### DRY Analysis\n",
    "\n",
    "#### Why the Bad Example is Problematic:\n",
    "- Discount logic is duplicated in both `calculateTotalPrice` and `calculateDiscountedPrice`\n",
    "- Any change to discount rates requires updates in multiple places\n",
    "- More prone to errors when maintaining code\n",
    "- Hard to add new categories without modifying multiple functions\n",
    "\n",
    "#### Why the Good Example is Better:\n",
    "- Single source of truth with `CATEGORY_DISCOUNTS` object\n",
    "- Centralized discount logic in `applyDiscount` function\n",
    "- Easy to modify discount rates by updating one place\n",
    "- Simple to add new categories by updating the configuration object"
   ]
  },
  {
   "cell_type": "markdown",
   "metadata": {},
   "source": [
    "# KISS (Keep it Simple, Stupid)"
   ]
  },
  {
   "cell_type": "markdown",
   "metadata": {},
   "source": [
    "### Bad Examples"
   ]
  },
  {
   "cell_type": "code",
   "execution_count": null,
   "metadata": {
    "vscode": {
     "languageId": "javascript"
    }
   },
   "outputs": [],
   "source": [
    "def get_user_status(user):\n",
    "    if user.login_count > 0:\n",
    "        if user.last_login and (datetime.now() - user.last_login).days < 30:\n",
    "            if user.subscription_status == 'active':\n",
    "                if user.email_verified:\n",
    "                    return 'active'\n",
    "                else:\n",
    "                    return 'pending_verification'\n",
    "            else:\n",
    "                return 'subscription_expired'\n",
    "        else:\n",
    "            return 'inactive'\n",
    "    else:\n",
    "        return 'new_user'"
   ]
  },
  {
   "cell_type": "markdown",
   "metadata": {},
   "source": [
    "### Good Examples"
   ]
  },
  {
   "cell_type": "code",
   "execution_count": null,
   "metadata": {
    "vscode": {
     "languageId": "javascript"
    }
   },
   "outputs": [],
   "source": [
    "def get_user_status(user):\n",
    "    if not user.login_count:\n",
    "        return 'new_user'\n",
    "    \n",
    "    if not user.email_verified:\n",
    "        return 'pending_verification'\n",
    "    \n",
    "    if not user.has_active_subscription():\n",
    "        return 'subscription_expired'\n",
    "    \n",
    "    if user.is_inactive():\n",
    "        return 'inactive'\n",
    "    \n",
    "    return 'active'"
   ]
  },
  {
   "cell_type": "markdown",
   "metadata": {},
   "source": [
    "### KISS Analysis\n",
    "\n",
    "#### Why the Bad Example is Problematic:\n",
    "- Deeply nested if statements make the code hard to follow\n",
    "- Multiple levels of indentation increase cognitive load\n",
    "- Difficult to modify or add new conditions\n",
    "- Hard to understand the complete flow at a glance\n",
    "\n",
    "#### Why the Good Example is Better:\n",
    "- Flat structure with early returns\n",
    "- Each condition is clear and independent\n",
    "- Easy to add or modify status conditions\n",
    "- Logic flow is straightforward and readable\n",
    "- Helper methods improve code clarity (`has_active_subscription`, `is_inactive`)"
   ]
  },
  {
   "cell_type": "markdown",
   "metadata": {},
   "source": [
    "# Code Smell"
   ]
  },
  {
   "cell_type": "markdown",
   "metadata": {},
   "source": [
    "### Bad Examples"
   ]
  },
  {
   "cell_type": "code",
   "execution_count": null,
   "metadata": {},
   "outputs": [],
   "source": [
    "def process_order(order):\n",
    "    # Validation\n",
    "    if not order.items:\n",
    "        raise ValueError(\"Order must have items\")\n",
    "    if not order.shipping_address:\n",
    "        raise ValueError(\"Shipping address required\")\n",
    "    if not order.payment_info:\n",
    "        raise ValueError(\"Payment information required\")\n",
    "    \n",
    "    # Calculate totals\n",
    "    subtotal = 0\n",
    "    for item in order.items:\n",
    "        if item.quantity <= 0:\n",
    "            raise ValueError(\"Invalid quantity\")\n",
    "        subtotal += item.price * item.quantity\n",
    "    \n",
    "    # Apply discounts\n",
    "    if order.coupon:\n",
    "        if order.coupon.is_valid():\n",
    "            subtotal *= (1 - order.coupon.discount)\n",
    "    \n",
    "    # Add shipping\n",
    "    total = subtotal + calculate_shipping(order)\n",
    "    \n",
    "    # Process payment\n",
    "    payment_result = process_payment(order.payment_info, total)\n",
    "    if not payment_result.success:\n",
    "        raise PaymentError(payment_result.error)\n",
    "    \n",
    "    # Send confirmation\n",
    "    send_order_confirmation(order, total)\n",
    "    \n",
    "    return total"
   ]
  },
  {
   "cell_type": "markdown",
   "metadata": {},
   "source": [
    "### Good Example"
   ]
  },
  {
   "cell_type": "code",
   "execution_count": null,
   "metadata": {},
   "outputs": [],
   "source": [
    "def process_order(order):\n",
    "    validate_order(order)\n",
    "    total = calculate_order_total(order)\n",
    "    process_order_payment(order, total)\n",
    "    send_order_confirmation(order, total)\n",
    "    return total\n",
    "\n",
    "def validate_order(order):\n",
    "    if not order.items:\n",
    "        raise ValueError(\"Order must have items\")\n",
    "    if not order.shipping_address:\n",
    "        raise ValueError(\"Shipping address required\")\n",
    "    if not order.payment_info:\n",
    "        raise ValueError(\"Payment information required\")\n",
    "    validate_order_items(order.items)\n",
    "\n",
    "def calculate_order_total(order):\n",
    "    subtotal = calculate_subtotal(order.items)\n",
    "    subtotal = apply_discounts(subtotal, order.coupon)\n",
    "    return subtotal + calculate_shipping(order)\n",
    "\n",
    "def process_order_payment(order, total):\n",
    "    payment_result = process_payment(order.payment_info, total)\n",
    "    if not payment_result.success:\n",
    "        raise PaymentError(payment_result.error)"
   ]
  }
 ],
 "metadata": {
  "kernelspec": {
   "display_name": "base",
   "language": "python",
   "name": "python3"
  },
  "language_info": {
   "codemirror_mode": {
    "name": "ipython",
    "version": 3
   },
   "file_extension": ".py",
   "mimetype": "text/x-python",
   "name": "python",
   "nbconvert_exporter": "python",
   "pygments_lexer": "ipython3",
   "version": "3.12.7"
  }
 },
 "nbformat": 4,
 "nbformat_minor": 2
}
