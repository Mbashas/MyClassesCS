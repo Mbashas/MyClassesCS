{
 "cells": [
  {
   "cell_type": "markdown",
   "metadata": {},
   "source": [
    "# Single Responsibility Principle (SRP)"
   ]
  },
  {
   "cell_type": "markdown",
   "metadata": {},
   "source": [
    "### Bad Examples"
   ]
  },
  {
   "cell_type": "code",
   "execution_count": null,
   "metadata": {},
   "outputs": [],
   "source": [
    "class User:\n",
    "    def __init__(self, name, email):\n",
    "        self.name = name\n",
    "        self.email = email\n",
    "    \n",
    "    def save_user(self):\n",
    "        # Handles database operations\n",
    "        pass\n",
    "    \n",
    "    def send_email(self):\n",
    "        # Handles email formatting and sending\n",
    "        pass\n",
    "    \n",
    "    def generate_report(self):\n",
    "        # Creates PDF reports\n",
    "        pass"
   ]
  },
  {
   "cell_type": "markdown",
   "metadata": {},
   "source": [
    "### Good Examples"
   ]
  },
  {
   "cell_type": "code",
   "execution_count": null,
   "metadata": {},
   "outputs": [],
   "source": [
    "class User:\n",
    "    def __init__(self, name, email):\n",
    "        self.name = name\n",
    "        self.email = email\n",
    "\n",
    "class UserRepository:\n",
    "    def save_user(self, user):\n",
    "        # Handles database operations only\n",
    "        pass\n",
    "\n",
    "class EmailService:\n",
    "    def send_email(self, user, message):\n",
    "        # Handles email operations only\n",
    "        pass\n",
    "\n",
    "class ReportGenerator:\n",
    "    def generate_user_report(self, user):\n",
    "        # Handles report generation only\n",
    "        pass"
   ]
  },
  {
   "cell_type": "markdown",
   "metadata": {},
   "source": [
    "### Explanation\n",
    "\n",
    "This notebook demonstrates the Single Responsibility Principle (SRP). In the bad examples, a single class handles multiple responsibilities. In the good examples, each class (User, UserRepository, EmailService, ReportGenerator) is focused on a single responsibility."
   ]
  },
  {
   "cell_type": "markdown",
   "metadata": {},
   "source": [
    "### Application\n",
    "\n",
    "When applying SRP in your projects, ensure that each class or module has one well-defined responsibility. This separation enhances code maintainability and testability."
   ]
  },
  {
   "cell_type": "markdown",
   "metadata": {},
   "source": [
    "# DRY (Don't Repeat Yourself)"
   ]
  },
  {
   "cell_type": "markdown",
   "metadata": {},
   "source": [
    "### Bad Examples"
   ]
  },
  {
   "cell_type": "code",
   "execution_count": null,
   "metadata": {
    "vscode": {
     "languageId": "javascript"
    }
   },
   "outputs": [],
   "source": [
    "// Bad example - Repeating discount logic\n",
    "function calculateTotalPrice(items) {\n",
    "    let total = 0;\n",
    "    for (let item of items) {\n",
    "        // Duplicate discount calculation logic\n",
    "        if (item.category === 'electronics') {\n",
    "            total += item.price * 0.9;\n",
    "        } else if (item.category === 'books') {\n",
    "            total += item.price * 0.95;\n",
    "        }\n",
    "    }\n",
    "    return total;\n",
    "}\n",
    "\n",
    "function calculateDiscountedPrice(item) {\n",
    "    // Same discount logic repeated\n",
    "    if (item.category === 'electronics') {\n",
    "        return item.price * 0.9;\n",
    "    } else if (item.category === 'books') {\n",
    "        return item.price * 0.95;\n",
    "    }\n",
    "}"
   ]
  },
  {
   "cell_type": "markdown",
   "metadata": {},
   "source": [
    "### Good Examples"
   ]
  },
  {
   "cell_type": "code",
   "execution_count": null,
   "metadata": {
    "vscode": {
     "languageId": "javascript"
    }
   },
   "outputs": [],
   "source": [
    "const CATEGORY_DISCOUNTS = {\n",
    "    'electronics': 0.9,\n",
    "    'books': 0.95,\n",
    "    'default': 1.0\n",
    "};\n",
    "\n",
    "function applyDiscount(price, category) {\n",
    "    const discountRate = CATEGORY_DISCOUNTS[category] || CATEGORY_DISCOUNTS.default;\n",
    "    return price * discountRate;\n",
    "}\n",
    "\n",
    "function calculateTotalPrice(items) {\n",
    "    return items.reduce((total, item) => \n",
    "        total + applyDiscount(item.price, item.category), 0);\n",
    "}\n",
    "\n",
    "function calculateDiscountedPrice(item) {\n",
    "    return applyDiscount(item.price, item.category);\n",
    "}"
   ]
  },
  {
   "cell_type": "markdown",
   "metadata": {},
   "source": []
  },
  {
   "cell_type": "markdown",
   "metadata": {},
   "source": [
    "# KISS (Keep it Simple, Stupid)"
   ]
  },
  {
   "cell_type": "markdown",
   "metadata": {},
   "source": [
    "### Bad Examples"
   ]
  },
  {
   "cell_type": "markdown",
   "metadata": {},
   "source": [
    "### Good Examples"
   ]
  }
 ],
 "metadata": {
  "kernelspec": {
   "display_name": "base",
   "language": "python",
   "name": "python3"
  },
  "language_info": {
   "codemirror_mode": {
    "name": "ipython",
    "version": 3
   },
   "file_extension": ".py",
   "mimetype": "text/x-python",
   "name": "python",
   "nbconvert_exporter": "python",
   "pygments_lexer": "ipython3",
   "version": "3.12.7"
  }
 },
 "nbformat": 4,
 "nbformat_minor": 2
}
