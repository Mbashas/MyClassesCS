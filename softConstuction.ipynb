{
 "cells": [
  {
   "cell_type": "markdown",
   "metadata": {},
   "source": [
    "# Single Responsibility Principle (SRP)"
   ]
  },
  {
   "cell_type": "markdown",
   "metadata": {},
   "source": [
    "### Bad Examples"
   ]
  },
  {
   "cell_type": "code",
   "execution_count": 1,
   "metadata": {},
   "outputs": [],
   "source": [
    "class User:\n",
    "    def __init__(self, name, email):\n",
    "        self.name = name\n",
    "        self.email = email\n",
    "    \n",
    "    def save_user(self):\n",
    "        # Handles database operations\n",
    "        pass\n",
    "    \n",
    "    def send_email(self):\n",
    "        # Handles email formatting and sending\n",
    "        pass\n",
    "    \n",
    "    def generate_report(self):\n",
    "        # Creates PDF reports\n",
    "        pass"
   ]
  },
  {
   "cell_type": "markdown",
   "metadata": {},
   "source": [
    "### Good Examples"
   ]
  },
  {
   "cell_type": "code",
   "execution_count": 2,
   "metadata": {},
   "outputs": [],
   "source": [
    "class User:\n",
    "    def __init__(self, name, email):\n",
    "        self.name = name\n",
    "        self.email = email\n",
    "\n",
    "class UserRepository:\n",
    "    def save_user(self, user):\n",
    "        # Handles database operations only\n",
    "        pass\n",
    "\n",
    "class EmailService:\n",
    "    def send_email(self, user, message):\n",
    "        # Handles email operations only\n",
    "        pass\n",
    "\n",
    "class ReportGenerator:\n",
    "    def generate_user_report(self, user):\n",
    "        # Handles report generation only\n",
    "        pass"
   ]
  }
 ],
 "metadata": {
  "kernelspec": {
   "display_name": "base",
   "language": "python",
   "name": "python3"
  },
  "language_info": {
   "codemirror_mode": {
    "name": "ipython",
    "version": 3
   },
   "file_extension": ".py",
   "mimetype": "text/x-python",
   "name": "python",
   "nbconvert_exporter": "python",
   "pygments_lexer": "ipython3",
   "version": "3.12.7"
  }
 },
 "nbformat": 4,
 "nbformat_minor": 2
}
