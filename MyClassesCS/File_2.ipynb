{
 "cells": [
  {
   "attachments": {},
   "cell_type": "markdown",
   "metadata": {},
   "source": [
    "# Solutions for Structured Problems"
   ]
  },
  {
   "attachments": {},
   "cell_type": "markdown",
   "metadata": {},
   "source": [
    "# 1"
   ]
  },
  {
   "cell_type": "code",
   "execution_count": 19,
   "metadata": {},
   "outputs": [
    {
     "name": "stdout",
     "output_type": "stream",
     "text": [
      "Hello Mbasha,you are 22 years old\n"
     ]
    }
   ],
   "source": [
    "# Asking the user to enter their name and age\n",
    "name=input('What is your name')\n",
    "age= int(input('what is your age'))\n",
    "# print the the result\n",
    "print(f'Hello {name},you are {age} years old')"
   ]
  },
  {
   "attachments": {},
   "cell_type": "markdown",
   "metadata": {},
   "source": [
    "# 2"
   ]
  },
  {
   "cell_type": "code",
   "execution_count": 20,
   "metadata": {},
   "outputs": [
    {
     "data": {
      "text/plain": [
       "28"
      ]
     },
     "execution_count": 20,
     "metadata": {},
     "output_type": "execute_result"
    }
   ],
   "source": [
    "# creating the function that take a list of integers\n",
    "def newvalue():\n",
    "\n",
    "    strings =[1,2,3,4,5,6,7,9,8,9,8]\n",
    "    new =[]\n",
    "    for string in strings:\n",
    "        if string%2 == 0:\n",
    "            new.append(string)\n",
    "    return sum(new)\n",
    "# displaying the result\n",
    "newvalue()"
   ]
  },
  {
   "attachments": {},
   "cell_type": "markdown",
   "metadata": {},
   "source": [
    "# 3"
   ]
  },
  {
   "cell_type": "code",
   "execution_count": 21,
   "metadata": {},
   "outputs": [
    {
     "data": {
      "text/plain": [
       "['mbasha', 'mmbasha', 'national']"
      ]
     },
     "execution_count": 21,
     "metadata": {},
     "output_type": "execute_result"
    }
   ],
   "source": [
    "# creating the function that take a list of integers\n",
    "def newvalue():\n",
    "\n",
    "    strings =['mbasha','seth','mmbasha','national']\n",
    "    new =[]\n",
    "    for string in strings:\n",
    "        if len(string) >= 5:\n",
    "            new.append(string)\n",
    "    return new\n",
    "#displaying the result\n",
    "newvalue()\n"
   ]
  },
  {
   "attachments": {},
   "cell_type": "markdown",
   "metadata": {},
   "source": [
    "# 4"
   ]
  },
  {
   "cell_type": "code",
   "execution_count": 24,
   "metadata": {},
   "outputs": [
    {
     "name": "stdout",
     "output_type": "stream",
     "text": [
      "Reversed string: ahsabM\n"
     ]
    }
   ],
   "source": [
    "# ask the user to enter a string\n",
    "Entered = input(\"Enter a string: \")\n",
    "# reverse the input \n",
    "revString= Entered[::-1]\n",
    "# print the value\n",
    "print(\"Reversed string:\", revString)"
   ]
  },
  {
   "attachments": {},
   "cell_type": "markdown",
   "metadata": {},
   "source": [
    "# 5"
   ]
  },
  {
   "cell_type": "code",
   "execution_count": null,
   "metadata": {},
   "outputs": [],
   "source": [
    "# creating a function that take a list of integers\n",
    "def newvalue(num_list):\n",
    "    unique = []\n",
    "    for num in num_list:\n",
    "        if num not in unique:\n",
    "            unique.append(num)\n",
    "    return unique\n",
    "# input value\n",
    "inputValue = [1, 2, 3, 2, 4, 5, 1, 3]\n",
    "# print the new list that contains only the unique elements of the original list.\n",
    "outputValue = newvalue(inputValue)\n",
    "print(outputValue) "
   ]
  }
 ],
 "metadata": {
  "kernelspec": {
   "display_name": "base",
   "language": "python",
   "name": "python3"
  },
  "language_info": {
   "codemirror_mode": {
    "name": "ipython",
    "version": 3
   },
   "file_extension": ".py",
   "mimetype": "text/x-python",
   "name": "python",
   "nbconvert_exporter": "python",
   "pygments_lexer": "ipython3",
   "version": "3.9.13"
  },
  "orig_nbformat": 4,
  "vscode": {
   "interpreter": {
    "hash": "e7687861fb46f7906bcc60d379099d028315d380e956b15b58626c150416ed32"
   }
  }
 },
 "nbformat": 4,
 "nbformat_minor": 2
}
