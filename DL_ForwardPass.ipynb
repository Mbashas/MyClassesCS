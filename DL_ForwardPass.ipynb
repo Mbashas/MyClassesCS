{
 "cells": [
  {
   "cell_type": "code",
   "execution_count": 1,
   "metadata": {},
   "outputs": [],
   "source": [
    "import numpy as np\n",
    "\n",
    "def forward_propagation(X, W1, b1, W2, b2, activation_function='linear'):\n",
    "    \"\"\"\n",
    "    Perform forward propagation through a 2-layer neural network\n",
    "    \n",
    "    Parameters:\n",
    "    X -- input data, shape (input_size, number_of_examples)\n",
    "    W1, W2 -- weight matrices\n",
    "    b1, b2 -- bias vectors\n",
    "    activation_function -- 'linear' or 'sigmoid'\n",
    "    \n",
    "    Returns:\n",
    "    A2 -- output of the network\n",
    "    cache -- dictionary containing intermediate values needed for backpropagation\n",
    "    \"\"\"\n",
    "    # First layer\n",
    "    Z1 = np.dot(W1, X) + b1\n",
    "    \n",
    "    # Apply activation function\n",
    "    if activation_function == 'linear':\n",
    "        A1 = Z1  # Linear activation: f(x) = x\n",
    "    elif activation_function == 'sigmoid':\n",
    "        A1 = 1 / (1 + np.exp(-Z1))  # Sigmoid activation\n",
    "    \n",
    "    # Second layer (output)\n",
    "    Z2 = np.dot(W2, A1) + b2\n",
    "    \n",
    "    if activation_function == 'linear':\n",
    "        A2 = Z2  # Linear activation\n",
    "    elif activation_function == 'sigmoid':\n",
    "        A2 = 1 / (1 + np.exp(-Z2))  # Sigmoid activation\n",
    "    \n",
    "    # Save values for backpropagation\n",
    "    cache = {\n",
    "        \"X\": X,\n",
    "        \"Z1\": Z1,\n",
    "        \"A1\": A1,\n",
    "        \"Z2\": Z2,\n",
    "        \"A2\": A2\n",
    "    }\n",
    "    \n",
    "    return A2, cache"
   ]
  }
 ],
 "metadata": {
  "kernelspec": {
   "display_name": "base",
   "language": "python",
   "name": "python3"
  },
  "language_info": {
   "codemirror_mode": {
    "name": "ipython",
    "version": 3
   },
   "file_extension": ".py",
   "mimetype": "text/x-python",
   "name": "python",
   "nbconvert_exporter": "python",
   "pygments_lexer": "ipython3",
   "version": "3.12.7"
  }
 },
 "nbformat": 4,
 "nbformat_minor": 2
}
